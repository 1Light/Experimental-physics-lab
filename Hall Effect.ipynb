{
  "nbformat": 4,
  "nbformat_minor": 0,
  "metadata": {
    "colab": {
      "name": "hallEffect",
      "provenance": [],
      "collapsed_sections": [],
      "authorship_tag": "ABX9TyPbvd9k3NQxqlqd2GNMwtt2",
      "include_colab_link": true
    },
    "kernelspec": {
      "name": "python3",
      "display_name": "Python 3"
    }
  },
  "cells": [
    {
      "cell_type": "markdown",
      "metadata": {
        "id": "view-in-github",
        "colab_type": "text"
      },
      "source": [
        "<a href=\"https://colab.research.google.com/github/1Light/Experimental-physics-lab/blob/main/Hall%20Effect.ipynb\" target=\"_parent\"><img src=\"https://colab.research.google.com/assets/colab-badge.svg\" alt=\"Open In Colab\"/></a>"
      ]
    },
    {
      "cell_type": "code",
      "metadata": {
        "colab": {
          "base_uri": "https://localhost:8080/",
          "height": 316
        },
        "id": "QkvCqccka5gp",
        "outputId": "cce0693c-8478-4ed0-e92c-fe565dcbd4b4"
      },
      "source": [
        "#import numpy as np\n",
        "#import pandas as pd\n",
        "#import matplotlib.pyplot as plt\n",
        "#from scipy.stats import linregress\n",
        "#print(\"imported\")\n",
        "\n",
        "#Kept all independent for this code \n",
        "\n",
        "%reset -f\n",
        "import numpy as np\n",
        "#import pandas as pd\n",
        "import matplotlib.pyplot as plt\n",
        "from scipy.stats import linregress\n",
        "\n",
        "# reset all variable\n",
        "# 1. Calibration of EMU-50 with Gaussmeter\n",
        "I_EMU =  [0.25, 0.5, 0.75, 1.0, 1.25, 1.5, 1.75, 2.0, 2.25, 2.5, 2.75, 3.0, 3.25, 3.5, 3.75, 4.0]  # EMU-50 Current (A)\n",
        "magneticField =  [0.57, 1.0, 1.45, 1.9, 2.36, 2.82, 3.28, 3.73, 4.18, 4.6, 5.02, 5.42, 5.77, 6.09, 6.37, 6.61] # Magnetic Field (KG)\n",
        "\n",
        "del_I_EMU = 0.01 # least count uncertinity in A\n",
        "del_magneticField = 0.01 # least count uncertinity in Kilo G\n",
        "\n",
        "\n",
        "result = linregress(I_EMU, magneticField)\n",
        "\n",
        "m = result.slope\n",
        "b = result.intercept\n",
        "\n",
        "delta_m = result.stderr \n",
        "\n",
        "fig1 = plt.figure()\n",
        "\n",
        "calibrationPlot = fig1.add_subplot(111)\n",
        "\n",
        "calibrationPlot.scatter(I_EMU, magneticField,label = 'readings')\n",
        "\n",
        "calibrationPlot.plot(I_EMU, np.array(I_EMU) * m + b , color=\"red\",label = 'least squares regression')\n",
        "calibrationPlot.plot(I_EMU, np.array(I_EMU) * (m +delta_m ) + b , color=\"green\",label = 'standard deviation')\n",
        "calibrationPlot.plot(I_EMU, np.array(I_EMU) * (m-delta_m) + b , color=\"green\")\n",
        "\n",
        "\n",
        "#ax.yaxis.set_major_formatter(mtick.FormatStrFormatter('%.2e'))\n",
        "calibrationPlot.legend()\n",
        "plt.xlabel(r\"EMU-50 Current $(A)$ \")\n",
        "plt.ylabel(r\"Magnetic Field (kilogauss) \")\n",
        "\n",
        "plt.show()\n",
        "\n",
        "print(\"Equation of this line is : y = {0}x+{1} \".format(round(m,2),round(b,2))) \n",
        "print(\"Uncertinity in slope is {0}\".format(round(delta_m,2)))\n",
        "\n"
      ],
      "execution_count": null,
      "outputs": [
        {
          "output_type": "display_data",
          "data": {
            "image/png": "[encoded data removed]",
            "text/plain": [
              "<Figure size 432x288 with 1 Axes>"
            ]
          },
          "metadata": {
            "tags": [],
            "needs_background": "light"
          }
        },
        {
          "output_type": "stream",
          "text": [
            "Equation of this line is : y = 1.67x+0.28 \n",
            "Uncertinity in slope is 0.03\n"
          ],
          "name": "stdout"
        }
      ]
    },
    {
      "cell_type": "code",
      "metadata": {
        "id": "USCKuX3tcnwg"
      },
      "source": [
        ""
      ],
      "execution_count": null,
      "outputs": []
    },
    {
      "cell_type": "markdown",
      "metadata": {
        "id": "YCVJb1TCbKlz"
      },
      "source": [
        "\n",
        "$$ V_H = R_H * \\frac{I * B_z}{d} $$\n",
        "$v_H$ is voltage accors semiconductors  \n",
        "\n",
        "$R_H$ is Hall coefficient\n",
        "\n",
        "$I$ is current across semiconductors\n",
        "\n",
        "$d$ is thickness of the semiconductors\n",
        "\n",
        "$B_z$ Magnetic field \n",
        "\n",
        "$$ R_H = \\frac{V_H }{B_z}*d/I $$\n",
        "\n",
        "\n",
        "$$ \\Delta R_H = R_H * \\sqrt {  \\left( \\frac{\\Delta slope}{slope} \\right)^2 +\\left(\\frac{\\Delta B_z}{B_z} \\right)^2 +\\left(\\frac{\\Delta I}{I} \\right)^2   }$$\n"
      ]
    },
    {
      "cell_type": "code",
      "metadata": {
        "colab": {
          "base_uri": "https://localhost:8080/",
          "height": 729
        },
        "id": "G_OUleyQa_dc",
        "outputId": "999084cd-7f01-4061-d97f-7037c9c67219"
      },
      "source": [
        "\n",
        "# 2. Keeping Probe Current constant and varying the Magnetic Field\n",
        "# Sample: Ge Crystal (n-type)\n",
        "%reset -f \n",
        "# reset all variable\n",
        "import numpy as np\n",
        "import pandas as pd\n",
        "import matplotlib.pyplot as plt\n",
        "from scipy.stats import linregress\n",
        "print(\"imported\")\n",
        "\n",
        "\n",
        "I_Probe= 2.5 #Probe Current  in mA\n",
        "\n",
        "I_EMU  =  [0.25, 0.5, 0.75, 1.0, 1.25, 1.5, 1.75, 2.0, 2.25, 2.5, 2.75, 3.0, 3.25, 3.5, 3.75, 4.0] #EMU-50 Current A\n",
        "V_Hall =  [8.8, 18.3, 28.1, 38.4, 48.5, 58.4, 68.4, 77.8, 87.1, 96.0, 104.3, 112.6, 120.0, 125.8, 131.2, 136.1] #Hall Voltage (mV) [-ve]\n",
        "B_EMU  =  [] #Killo Gauss\n",
        "srNo = []\n",
        "def ItoB(emu_current):\n",
        "    m = 1.67\n",
        "    b = 0.28\n",
        "    emu_B = round(m*emu_current+b,2)\n",
        "    return emu_B\n",
        "j=0\n",
        "for i in I_EMU:\n",
        "    j=j+1\n",
        "    srNo.append(j)\n",
        "    B_EMU.append(ItoB(i))\n",
        "\n",
        "\n",
        "print(\"Calculated field is \\n B_EMU = {0} kilo gauss \".format(B_EMU ))\n",
        "\n",
        "\n",
        "table = { 'Serial no ' :  srNo,\n",
        "         'EMU-50 Current (A)': I_EMU,\n",
        "         'Hall Voltage (mV) [-ve]':V_Hall ,\n",
        "         'Magnetic Field (kilogauss)': B_EMU }\n",
        "\n",
        "# log to base e is used and the Temp in Table is in terms of 10^-3\n",
        "\n",
        "dataframe = pd.DataFrame(table)\n",
        "print(dataframe)\n",
        "\n",
        "\n",
        "\n",
        "            #\n",
        "result = linregress(B_EMU, V_Hall)\n",
        "\n",
        "m = result.slope\n",
        "b = result.intercept\n",
        "\n",
        "delta_m = result.stderr \n",
        "      \n",
        "      #\n",
        "      \n",
        "\n",
        "fig2 = plt.figure()\n",
        "\n",
        "HallVsBPlot = fig2.add_subplot(111)\n",
        "\n",
        "HallVsBPlot.scatter(B_EMU, V_Hall,label = 'readings')\n",
        "\n",
        "HallVsBPlot.plot(B_EMU, np.array(B_EMU) * m + b , color=\"red\",label = 'least squares regression')\n",
        "HallVsBPlot.plot(B_EMU, np.array(B_EMU) * (m +delta_m ) + b , color=\"green\",label = 'standard deviation')\n",
        "HallVsBPlot.plot(B_EMU, np.array(B_EMU) * (m-delta_m) + b , color=\"green\")\n",
        "\n",
        "\n",
        "#ax.yaxis.set_major_formatter(mtick.FormatStrFormatter('%.2e'))\n",
        "HallVsBPlot.legend()\n",
        "plt.ylabel(r\"Hall Voltage (mV) [-ve] \")\n",
        "plt.xlabel(r\"Magnetic Field (kilogauss) \")\n",
        "\n",
        "plt.show()\n",
        "\n",
        "print(\"Equation of this line is : y = {0} * x + ({1}) \".format(round(m,2),round(b,2))) \n",
        "print(\"Uncertinity in slope is {0}\".format(round(delta_m,2)))\n",
        "\n",
        "\n",
        "# display The halls coefficient\n",
        "from IPython.display import display, Math\n",
        "I_Probe= 2.5 #Probe Current  in mA\n",
        "d = 0.5  # mm \n",
        "m = 20.99 # mV/KiloGauss   \n",
        "m = m * pow(10,-3)/pow(10,-1)\n",
        "\n",
        "display(Math(  'R_H  = {:.2e}  *  m^3C^-1'.format(m * d/I_Probe)))\n",
        "\n",
        "\n",
        "R_H = m * d/I_Probe\n",
        "\n",
        "var =     [20.99,2.5,0.5] # slope , I, d \n",
        "del_var = [delta_m,0.01 ,0.01]\n",
        "\n",
        "def error(var,del_var):\n",
        "    uncertinity = float(0)\n",
        "    for i in range(len(var)):\n",
        "        uncertinity = uncertinity + pow( del_var[i]/var[i] , 2 )\n",
        "    return np.sqrt(uncertinity)\n",
        "    \n",
        "del_R_H = R_H*error(var,del_var)\n",
        "\n",
        "display(Math(  'R_H \\pm \\Delta R_H  = {:.2e}  \\pm {:.2e}   m^3C^-1'.format(R_H ,del_R_H )))\n"
      ],
      "execution_count": null,
      "outputs": [
        {
          "output_type": "stream",
          "text": [
            "imported\n",
            "Calculated field is \n",
            " B_EMU = [0.7, 1.11, 1.53, 1.95, 2.37, 2.79, 3.2, 3.62, 4.04, 4.46, 4.87, 5.29, 5.71, 6.12, 6.54, 6.96] kilo gauss \n",
            "    Serial no   ...  Magnetic Field (kilogauss)\n",
            "0            1  ...                        0.70\n",
            "1            2  ...                        1.11\n",
            "2            3  ...                        1.53\n",
            "3            4  ...                        1.95\n",
            "4            5  ...                        2.37\n",
            "5            6  ...                        2.79\n",
            "6            7  ...                        3.20\n",
            "7            8  ...                        3.62\n",
            "8            9  ...                        4.04\n",
            "9           10  ...                        4.46\n",
            "10          11  ...                        4.87\n",
            "11          12  ...                        5.29\n",
            "12          13  ...                        5.71\n",
            "13          14  ...                        6.12\n",
            "14          15  ...                        6.54\n",
            "15          16  ...                        6.96\n",
            "\n",
            "[16 rows x 4 columns]\n"
          ],
          "name": "stdout"
        },
        {
          "output_type": "display_data",
          "data": {
            "image/png": "[encoded data removed]",
            "text/plain": [
              "<Figure size 432x288 with 1 Axes>"
            ]
          },
          "metadata": {
            "tags": [],
            "needs_background": "light"
          }
        },
        {
          "output_type": "stream",
          "text": [
            "Equation of this line is : y = 20.99 * x + (-1.61) \n",
            "Uncertinity in slope is 0.5\n"
          ],
          "name": "stdout"
        },
        {
          "output_type": "display_data",
          "data": {
            "text/latex": "$$R_H  = 4.20e-02  *  m^3C^-1$$",
            "text/plain": [
              "<IPython.core.display.Math object>"
            ]
          },
          "metadata": {
            "tags": []
          }
        },
        {
          "output_type": "display_data",
          "data": {
            "text/latex": "$$R_H \\pm \\Delta R_H  = 4.20e-02  \\pm 1.32e-03   m^3C^-1$$",
            "text/plain": [
              "<IPython.core.display.Math object>"
            ]
          },
          "metadata": {
            "tags": []
          }
        }
      ]
    },
    {
      "cell_type": "markdown",
      "metadata": {
        "id": "rcUKXSCDbBzu"
      },
      "source": [
        "\n",
        "\n",
        "$$ R_H = \\frac{V_H }{I}*d/B_z $$\n",
        "\n",
        "$$ \\Delta R_H = R_H * \\sqrt {  \\left( \\frac{\\Delta slope}{slope} \\right)^2 +\\left(\\frac{\\Delta B_z}{B_z} \\right)^2 +\\left(\\frac{\\Delta d}{d} \\right)^2   }$$\n"
      ]
    },
    {
      "cell_type": "code",
      "metadata": {
        "colab": {
          "base_uri": "https://localhost:8080/",
          "height": 355
        },
        "id": "38Lyj1eVbF0Y",
        "outputId": "95a3a57a-c044-4f94-b5f0-06085a402e6a"
      },
      "source": [
        "\n",
        "\n",
        "# 3. Keeping Magnetic Field constant and vary Probe Current\n",
        "#Mag. Field = 1.91 KG (at 1.00 A current); Sample: Ge Crystal (n-type)\n",
        "\n",
        "%reset -f \n",
        "# reset all variable\n",
        "\n",
        "import numpy as np\n",
        "#import pandas as pd\n",
        "import matplotlib.pyplot as plt\n",
        "from scipy.stats import linregress\n",
        "\n",
        "\n",
        "B_EMU = 1.91 #KG ar 1.00A  for me its 1.95 KG\n",
        "d = 0.5  # mm \n",
        "\n",
        "I_probe =  [0.5, 1.0, 1.5, 2.0, 2.5, 3.0, 3.5, 4.0, 4.5, 5.0, 5.5, 6.0, 6.5, 7.0, 7.5] #Probe Current (mA)\n",
        "V_Hall =  [8.6, 17.4, 26.0, 34.5, 42.9, 50.9, 59.1, 66.8, 74.2, 81.2, 87.9, 94.8, 101.0, 107.1, 113.3] #Hall Voltage (mV) [-ve]\n",
        "\n",
        "result = linregress(I_probe, V_Hall)\n",
        "\n",
        "m = result.slope\n",
        "b = result.intercept\n",
        "\n",
        "delta_m = result.stderr \n",
        "      \n",
        "      #\n",
        "      \n",
        "\n",
        "fig3 = plt.figure()\n",
        "\n",
        "IvsV = fig3.add_subplot(111)\n",
        "\n",
        "IvsV.scatter(I_probe, V_Hall,label = 'readings')\n",
        "\n",
        "IvsV.plot(I_probe, np.array(I_probe) * m + b , color=\"red\",label = 'least squares regression')\n",
        "IvsV.plot(I_probe, np.array(I_probe) * (m +delta_m ) + b , color=\"green\",label = 'standard deviation')\n",
        "IvsV.plot(I_probe, np.array(I_probe) * (m-delta_m) + b , color=\"green\")\n",
        "\n",
        "\n",
        "#ax.yaxis.set_major_formatter(mtick.FormatStrFormatter('%.2e'))\n",
        "IvsV.legend()\n",
        "plt.ylabel(r\"Hall Voltage (mV) [-ve] \")\n",
        "plt.xlabel(r\"Probe Current (mA)\")\n",
        "\n",
        "plt.show()\n",
        "\n",
        "print(\"Equation of this line is : y = {0} * x + ({1}) \".format(round(m,2),round(b,2))) \n",
        "print(\"Uncertinity in slope is  {0}\".format(round(delta_m,2)))\n",
        "\n",
        "\n",
        "# display The halls coefficient\n",
        "from IPython.display import display, Math\n",
        "I_Probe= 2.5 #Probe Current  in mA\n",
        "d = 0.5  # mm \n",
        "d = d * pow(10,-3)\n",
        "B_EMU = B_EMU/10 # tesla\n",
        "\n",
        "R_H = m * d / B_EMU\n",
        "\n",
        "display(Math(  'R_H  = {:.2e}  *  m^3C^-1'.format(m * d / B_EMU )))\n",
        "\n",
        "\n",
        "var =     [m,1.91,0.5] # slope , Bz, d \n",
        "del_var = [delta_m,0.01 ,0.01]\n",
        "\n",
        "def error(var,del_var):\n",
        "    uncertinity = float(0)\n",
        "    for i in range(len(var)):\n",
        "        uncertinity = uncertinity + pow( del_var[i]/var[i] , 2 )\n",
        "    return np.sqrt(uncertinity)\n",
        "    \n",
        "del_R_H = R_H*error(var,del_var)\n",
        "\n",
        "display(Math(  'R_H \\pm \\Delta R_H  = {:.2e}  \\pm {:.2e}   m^3C^-1'.format(m * d / B_EMU ,del_R_H )))\n",
        "\n"
      ],
      "execution_count": null,
      "outputs": [
        {
          "output_type": "display_data",
          "data": {
            "image/png": "[encoded data removed]",
            "text/plain": [
              "<Figure size 432x288 with 1 Axes>"
            ]
          },
          "metadata": {
            "tags": [],
            "needs_background": "light"
          }
        },
        {
          "output_type": "stream",
          "text": [
            "Equation of this line is : y = 14.99 * x + (4.44) \n",
            "Uncertinity in slope is  0.25\n"
          ],
          "name": "stdout"
        },
        {
          "output_type": "display_data",
          "data": {
            "text/latex": "$$R_H  = 3.92e-02  *  m^3C^-1$$",
            "text/plain": [
              "<IPython.core.display.Math object>"
            ]
          },
          "metadata": {
            "tags": []
          }
        },
        {
          "output_type": "display_data",
          "data": {
            "text/latex": "$$R_H \\pm \\Delta R_H  = 3.92e-02  \\pm 1.05e-03   m^3C^-1$$",
            "text/plain": [
              "<IPython.core.display.Math object>"
            ]
          },
          "metadata": {
            "tags": []
          }
        }
      ]
    },
    {
      "cell_type": "code",
      "metadata": {
        "colab": {
          "base_uri": "https://localhost:8080/",
          "height": 38
        },
        "id": "HkVz5L4CbiQs",
        "outputId": "3dff0fdd-ee73-4117-fd6d-a21cd6c3f745"
      },
      "source": [
        "from IPython.display import display, Math\n",
        "display(Math(  'R_H \\pm \\Delta R_H  = {:.2e}  \\pm {:.2e}   m^3C^-1'.format(m * d / B_EMU ,del_R_H )))"
      ],
      "execution_count": null,
      "outputs": [
        {
          "output_type": "display_data",
          "data": {
            "text/latex": "$$R_H \\pm \\Delta R_H  = 3.92e-02  \\pm 1.05e-03   m^3C^-1$$",
            "text/plain": [
              "<IPython.core.display.Math object>"
            ]
          },
          "metadata": {
            "tags": []
          }
        }
      ]
    },
    {
      "cell_type": "code",
      "metadata": {
        "colab": {
          "base_uri": "https://localhost:8080/"
        },
        "id": "U0KtSHm6amRQ",
        "outputId": "a1d4fcd0-42be-44df-9566-159f324133c4"
      },
      "source": [
        "\n",
        "\n",
        "A = '''1\n",
        "0.50\n",
        "8.60\n",
        "2\n",
        "1.00\n",
        "17.40\n",
        "3\n",
        "1.50\n",
        "26.00\n",
        "4\n",
        "2.00\n",
        "34.50\n",
        "5\n",
        "2.50\n",
        "42.90\n",
        "6\n",
        "3.00\n",
        "50.90\n",
        "7\n",
        "3.50\n",
        "59.10\n",
        "8\n",
        "4.00\n",
        "66.80\n",
        "9\n",
        "4.50\n",
        "74.20\n",
        "10\n",
        "5.00\n",
        "81.20\n",
        "11\n",
        "5.50\n",
        "87.90\n",
        "12\n",
        "6.00\n",
        "94.80\n",
        "13\n",
        "6.50\n",
        "101.00\n",
        "14\n",
        "7.00\n",
        "107.10\n",
        "15\n",
        "7.50\n",
        "113.30\n",
        "'''\n",
        "K = A.splitlines()\n",
        "j = 0\n",
        "\n",
        "one = []\n",
        "two = []\n",
        "three = []\n",
        "\n",
        "\n",
        "for i in K:\n",
        "    j=j+1\n",
        "    if j % 2 == 0:\n",
        "        two.append(float(i))\n",
        "    elif j % 3 == 0:\n",
        "        three.append(float(i))\n",
        "        j = 0 ;\n",
        "    else:\n",
        "        one.append(float(i))\n",
        "\n",
        "print('one = ', one)\n",
        "print('two = ', two)\n",
        "print('three = ', three)\n"
      ],
      "execution_count": null,
      "outputs": [
        {
          "output_type": "stream",
          "text": [
            "one =  [1.0, 2.0, 3.0, 4.0, 5.0, 6.0, 7.0, 8.0, 9.0, 10.0, 11.0, 12.0, 13.0, 14.0, 15.0]\n",
            "two =  [0.5, 1.0, 1.5, 2.0, 2.5, 3.0, 3.5, 4.0, 4.5, 5.0, 5.5, 6.0, 6.5, 7.0, 7.5]\n",
            "three =  [8.6, 17.4, 26.0, 34.5, 42.9, 50.9, 59.1, 66.8, 74.2, 81.2, 87.9, 94.8, 101.0, 107.1, 113.3]\n"
          ],
          "name": "stdout"
        }
      ]
    },
    {
      "cell_type": "code",
      "metadata": {
        "colab": {
          "base_uri": "https://localhost:8080/"
        },
        "id": "6S155-vvGdYE",
        "outputId": "2746b575-db9c-4f46-feff-aa563c2dbccc"
      },
      "source": [
        "print(1/(4.20*pow(10,-2) * 1.6 * pow(10,-19)))"
      ],
      "execution_count": null,
      "outputs": [
        {
          "output_type": "stream",
          "text": [
            "1.488095238095238e+20\n"
          ],
          "name": "stdout"
        }
      ]
    },
    {
      "cell_type": "code",
      "metadata": {
        "id": "QDtSUXmPGmpV"
      },
      "source": [
        ""
      ],
      "execution_count": null,
      "outputs": []
    }
  ]
}